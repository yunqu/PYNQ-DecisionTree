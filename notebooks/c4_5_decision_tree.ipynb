{
 "cells": [
  {
   "cell_type": "markdown",
   "metadata": {},
   "source": [
    "# C4.5 Decision Tree\n",
    "The C4.5 algorithm is considered as **a landmark decision tree program \n",
    "that is probably the machine learning workhorse most widely used in practice \n",
    "to date** (*Ian H. Witten; Eibe Frank; Mark A. Hall (2011). \n",
    "\"Data Mining: Practical machine learning tools and techniques, 3rd Edition\". \n",
    "Morgan Kaufmann, San Francisco. p. 191.*). \n",
    "\n",
    "More information can be found\n",
    "at https://en.wikipedia.org/wiki/C4.5_algorithm and \n",
    "http://www.saedsayad.com/decision_tree.htm\n",
    "\n",
    "The output of C4.5 algorithm is a decision tree, while in most cases \n",
    "the tree is simply binary. For binary C4.5 \n",
    "decision tree, each tree node has a `YES` or `NO` criterion.\n",
    "\n",
    "In this notebook, assuming we already have a decision tree, we will see how \n",
    "to use the PL to accelerate the decision\n",
    "making process.\n",
    "\n",
    "## An example of imaginary decision tree\n",
    "\n",
    "First of all, let's see the following 3-level (or 3-stage) decision tree:\n",
    "![](data/imaginary_decision_tree.png)\n",
    "\n",
    "If we study this (binary) decision tree, we will see for any data that\n",
    "users provide, it has to consist of 4 fields: `weather`, `condition`, `day`, \n",
    "and `age`. Data has to be checked in each field to determine what the next hop\n",
    "is; this is an essential step when searching the decision tree.\n",
    "\n",
    "After searching this tree, we will arrive at several final decisions:\n",
    "`work`, `home`, `video games`, `shopping`, and `movie`. Notice that although\n",
    "the searching process can go through different paths, it may finally end up\n",
    "with the same decision.\n",
    "\n",
    "In this notebook, we will use the above decision tree as an example.\n",
    "\n",
    "The criteria stored in the nodes can possibly change over time, and \n",
    "some values (like `age<50`) cannot be expressed nicely as a single \n",
    "value in a node, so let's define a mapping from the data to \n",
    "binary values.\n",
    "\n",
    "| 4 fields ||\n",
    "|---------------------------|\n",
    "| Fields    |    Index    |\n",
    "| Weather   | 00          |\n",
    "| Condition | 01          |\n",
    "| Day       | 10          |\n",
    "| Age       | 11          |\n",
    "\n",
    "\n",
    "| Weather (4 bits)||Condition (4 bits)|| Day (4 bits)     || Age (4 bits)     ||\n",
    "|-------|---------|--------|---------|---------|--------|--------|---------|\n",
    "| Value | Codes   |  Value | Codes   | Value   | Codes  | Value  | Codes   |\n",
    "| sunny | 1000    | windy  | 0100    | weekday | 0010   | Age<20 | 0110    |\n",
    "|       |         | rainy  | 1100    |         |        | Age<50 | 1110    |\n",
    "\n",
    "| Decision (address) (3 bits)||\n",
    "|---------------------------|\n",
    "| Decision    |    Codes    |\n",
    "| Work        |       000   |\n",
    "| Home        |       001   |\n",
    "| Video games |       010   |\n",
    "| Shopping    |       011   |\n",
    "| Work        |       100   |\n",
    "| Movie       |       101   |\n",
    "| Work        |       110   |\n",
    "| Home        |       111   |\n",
    "\n",
    "Notice it is probably an overkill for encoding the values using 4 bits.\n",
    "Also, the encoding can be arbitrary as long as there is no conflict.\n",
    "However, let's keep it as shown as an example."
   ]
  },
  {
   "cell_type": "code",
   "execution_count": 1,
   "metadata": {},
   "outputs": [],
   "source": [
    "DECISION_MAPPING = {\n",
    "    0: 'Work',\n",
    "    1: 'Home',\n",
    "    2: 'Video games',\n",
    "    3: 'Shopping',\n",
    "    4: 'Work',\n",
    "    5: 'Movie',\n",
    "    6: 'Work',\n",
    "    7: 'Home'\n",
    "}\n",
    "\n",
    "TREE_MAPPING = {\n",
    "    0: {0: 8},\n",
    "    1: {1: 4},\n",
    "    2: {1: 12},\n",
    "    3: {2: 2},\n",
    "    4: {3: 6},\n",
    "    5: {2: 2},\n",
    "    6: {3: 14}\n",
    "}"
   ]
  },
  {
   "cell_type": "markdown",
   "metadata": {},
   "source": [
    "## Software Approach\n",
    "\n",
    "### Step 1: A software-based decision tree\n",
    "\n",
    "Based on these encoding table, we will design a simple software to search \n",
    "this tree. There are some subtleties:\n",
    "\n",
    "1. There are lists to be kept: the field index, and the node values. They share common addresses.\n",
    "2. For a given node stored at location `i`, its child nodes are kept in location `2i+1` and `2i+2`. This helps to eliminate the use of pointers.\n",
    "\n",
    "The software decision tree is implemented in `decision_tree_sw.py`."
   ]
  },
  {
   "cell_type": "code",
   "execution_count": 2,
   "metadata": {},
   "outputs": [
    {
     "data": {
      "application/javascript": [
       "\n",
       "require(['notebook/js/codecell'], function(codecell) {\n",
       "  codecell.CodeCell.options_default.highlight_modes[\n",
       "      'magic_text/x-csrc'] = {'reg':[/^%%microblaze/]};\n",
       "  Jupyter.notebook.events.one('kernel_ready.Kernel', function(){\n",
       "      Jupyter.notebook.get_cells().map(function(cell){\n",
       "          if (cell.cell_type == 'code'){ cell.auto_highlight(); } }) ;\n",
       "  });\n",
       "});\n"
      ]
     },
     "metadata": {},
     "output_type": "display_data"
    }
   ],
   "source": [
    "from pynq_decision_tree import SoftwareDecisionTree\n",
    "decision_tree1 = SoftwareDecisionTree(num_fields=4, \n",
    "                                      num_bits_per_field=4, num_levels=3)"
   ]
  },
  {
   "cell_type": "markdown",
   "metadata": {},
   "source": [
    "### Step 2: Populate the decision tree\n",
    "Now we can instantiate the binary tree and load values into it."
   ]
  },
  {
   "cell_type": "code",
   "execution_count": 3,
   "metadata": {},
   "outputs": [],
   "source": [
    "for i in TREE_MAPPING:\n",
    "    for j in TREE_MAPPING[i]:\n",
    "        decision_tree1.load_sw(i, j, TREE_MAPPING[i][j])"
   ]
  },
  {
   "cell_type": "markdown",
   "metadata": {},
   "source": [
    "### Step 3: Search the tree\n",
    "\n",
    "Now we can prepare the data. The correct decision for the following data \n",
    "should be `movie`. \n",
    "\n",
    "The decision tree can work on a batch of data, \n",
    "but let's try a single data first."
   ]
  },
  {
   "cell_type": "code",
   "execution_count": 4,
   "metadata": {},
   "outputs": [],
   "source": [
    "example_data = {\n",
    "    0: 6, # Weather != sunny\n",
    "    1: 12, # Condition == rainy\n",
    "    2: 1, # Day != weekday\n",
    "    3: 14 # Age < 50 \n",
    "}\n",
    "data_batch = [example_data]"
   ]
  },
  {
   "cell_type": "code",
   "execution_count": 5,
   "metadata": {},
   "outputs": [
    {
     "data": {
      "text/plain": [
       "'Movie'"
      ]
     },
     "execution_count": 5,
     "metadata": {},
     "output_type": "execute_result"
    }
   ],
   "source": [
    "decision_tree1.prepare_sw(data_batch)\n",
    "decision = decision_tree1.search_sw()[0]\n",
    "DECISION_MAPPING[decision]"
   ]
  },
  {
   "cell_type": "markdown",
   "metadata": {},
   "source": [
    "### Step 4: Measure the performance\n",
    "We can also generate multiple data and time the processing. The following \n",
    "cell will take ~10 seconds."
   ]
  },
  {
   "cell_type": "code",
   "execution_count": 6,
   "metadata": {},
   "outputs": [
    {
     "name": "stdout",
     "output_type": "stream",
     "text": [
      "Preparation time for 10000 data is 3.04825758934021 seconds.\n",
      "Processing time for 10000 data is 5.729687213897705 seconds.\n",
      "Throughput: 1745.2959693409425 packets/second\n"
     ]
    }
   ],
   "source": [
    "from time import time\n",
    "from random import randint\n",
    "from copy import deepcopy\n",
    "\n",
    "NUM_DATA = 10000\n",
    "\n",
    "data_batch = [deepcopy(example_data) for _ in range(NUM_DATA)]\n",
    "for data in data_batch:\n",
    "    for j in data:\n",
    "        data[j] = randint(0, 15)\n",
    "\n",
    "t1 = time()\n",
    "decision_tree1.prepare_sw(data_batch)\n",
    "t2 = time()\n",
    "decision_tree1.search_sw()\n",
    "t3 = time()\n",
    "sw_prep = t2-t1\n",
    "sw_proc = t3-t2\n",
    "sw_total = t3-t1\n",
    "\n",
    "print('Preparation time for {} data is {} seconds.'.format(NUM_DATA, sw_prep))\n",
    "print('Processing time for {} data is {} seconds.'.format(NUM_DATA, sw_proc))\n",
    "print('Throughput: {0} packets/second'.format(NUM_DATA/sw_proc))"
   ]
  },
  {
   "cell_type": "markdown",
   "metadata": {},
   "source": [
    "## Hardware Approach\n",
    "\n",
    "### Step 1: Design the hardware\n",
    "\n",
    "We have constructed a decision tree overlay as follows.\n",
    "\n",
    "![](data/decision_tree_3_stages.png)\n",
    "\n",
    "The IP `binary_tree` is a pipelined version of the decision tree. Since\n",
    "our decision tree has 3 levels, we deploy 3 stages. The IP is highly\n",
    "parameterizable (`NUM_FIELDS`, `NUM_BITS_PER_FIELD`, `NUM_STAGES`, etc.).\n",
    "\n",
    "To implement the example decision tree, we have used:\n",
    "* Number of fields: 4\n",
    "* Number of bits per field: 4\n",
    "* Number of stages: 3\n",
    "\n",
    "For AXI Lite interface of the binary tree, the control register has the \n",
    "following format:\n",
    "\n",
    "| `slv_reg` number | bit index     | signals                                        |\n",
    "|------------------|---------------|------------------------------------------------|\n",
    "| 0                | 2:0           | `addr_i`, `load`, `reset`                      |\n",
    "| 4,3,2,1          | 31:0          | node value of stage 0, stage 1, ...            |\n",
    "| 8,7,6,5          | 31:0          | field index of stage 0, stage 1, ...           |\n",
    "| 12,11,10,9       | 31:0          | RAM write address for stage 0, stage 1, ...    |\n",
    "\n",
    "Note:\n",
    "\n",
    "1. There are actually 16 slave registers deployed in the IP but we use only 12 of them.\n",
    "2. `addr_i` should always be 0.\n",
    "3. The early stages correspond to higher-order bits in a given slave register.\n",
    "4. The slave register 0 (`slv_reg0`) will control the load and reset signals for the pipeline.\n",
    "\n",
    "The AXI stream interfaces of the IP will be responsible for sending \n",
    "and receiving batch data from DMA.\n",
    "\n",
    "### Step 2: Load the overlay\n",
    "The corresponding Python wrapper has to be manually written, but it is\n",
    "pretty straightforward (refer to `decision_tree_3_stages.py`)."
   ]
  },
  {
   "cell_type": "code",
   "execution_count": 7,
   "metadata": {},
   "outputs": [],
   "source": [
    "from pynq_decision_tree import DecisionTree3StagesOverlay\n",
    "\n",
    "overlay = DecisionTree3StagesOverlay(\n",
    "    '/usr/local/lib/python3.6/dist-packages/pynq_decision_tree/'\n",
    "    'overlays/decision_tree_3_stages/decision_tree_3_stages.bit')"
   ]
  },
  {
   "cell_type": "markdown",
   "metadata": {},
   "source": [
    "The Python wrapper for the hardware decision tree is implemented in \n",
    "`decision_tree_hw.py`. Note that it takes in overlay as an argument (simply an implementation option)."
   ]
  },
  {
   "cell_type": "code",
   "execution_count": 8,
   "metadata": {},
   "outputs": [],
   "source": [
    "from pynq_decision_tree import HardwareDecisionTree\n",
    "\n",
    "decision_tree2 = HardwareDecisionTree(overlay, num_fields=4, \n",
    "                                      num_bits_per_field=4, num_levels=3)"
   ]
  },
  {
   "cell_type": "markdown",
   "metadata": {},
   "source": [
    "### Step 3: Configure the pipeline\n",
    "We can load tree data into the pipeline. We use the same `TREE_MAPPING` as\n",
    "the software version."
   ]
  },
  {
   "cell_type": "code",
   "execution_count": 9,
   "metadata": {},
   "outputs": [],
   "source": [
    "for i in TREE_MAPPING:\n",
    "    for j in TREE_MAPPING[i]:\n",
    "        decision_tree2.load_hw(i, j, TREE_MAPPING[i][j])"
   ]
  },
  {
   "cell_type": "markdown",
   "metadata": {},
   "source": [
    "### Step 4: Search the tree\n",
    "\n",
    "Now we can prepare the data. Using the same `example_data` from the software \n",
    "version, we know the correct decision for the following data \n",
    "should be `movie`."
   ]
  },
  {
   "cell_type": "code",
   "execution_count": 10,
   "metadata": {},
   "outputs": [],
   "source": [
    "data_batch = [example_data]"
   ]
  },
  {
   "cell_type": "code",
   "execution_count": 11,
   "metadata": {},
   "outputs": [
    {
     "data": {
      "text/plain": [
       "'Movie'"
      ]
     },
     "execution_count": 11,
     "metadata": {},
     "output_type": "execute_result"
    }
   ],
   "source": [
    "decision_tree2.prepare_hw(data_batch)\n",
    "decision = decision_tree2.search_hw()[0]\n",
    "DECISION_MAPPING[decision]"
   ]
  },
  {
   "cell_type": "markdown",
   "metadata": {},
   "source": [
    "### Step 5: Measure the performance"
   ]
  },
  {
   "cell_type": "code",
   "execution_count": 12,
   "metadata": {},
   "outputs": [
    {
     "name": "stdout",
     "output_type": "stream",
     "text": [
      "Preparation time for 10000 data is 2.8985660076141357 seconds.\n",
      "Processing time for 10000 data is 0.0022809505462646484 seconds.\n",
      "Throughput: 4384137.1380788125 packets/second\n"
     ]
    }
   ],
   "source": [
    "from time import time\n",
    "from random import randint\n",
    "from copy import deepcopy\n",
    "\n",
    "NUM_DATA = 10000\n",
    "\n",
    "data_batch = [deepcopy(example_data) for _ in range(NUM_DATA)]\n",
    "for data in data_batch:\n",
    "    for j in data:\n",
    "        data[j] = randint(0, 15)\n",
    "\n",
    "t1 = time()\n",
    "decision_tree2.prepare_hw(data_batch)\n",
    "t2 = time()\n",
    "decision_tree2.search_hw()\n",
    "t3 = time()\n",
    "hw_prep = t2-t1\n",
    "hw_proc = t3-t2\n",
    "\n",
    "print('Preparation time for {} data is {} seconds.'.format(NUM_DATA, hw_prep))\n",
    "print('Processing time for {} data is {} seconds.'.format(NUM_DATA, hw_proc))\n",
    "print('Throughput: {0} packets/second'.format(NUM_DATA/hw_proc))"
   ]
  },
  {
   "cell_type": "markdown",
   "metadata": {},
   "source": [
    "## Performance Comparison\n",
    "Let's analyze the performance of our approaches.\n",
    "\n",
    "Note that the preparation function for both software and hardware versions\n",
    "are the same, so it took roughly the same amount of time to put data into\n",
    "position. What hardware manages to reduce is the processing time.\n",
    "\n",
    "In this notebook, we made assumption that the data came from the local machine.\n",
    "In reality, the data can come from anywhere in a connected network. \n",
    "Hence we can assume data is always coming in a compact form (no need \n",
    "to call `prepare_sw()` or `prepare_hw()` in most cases)."
   ]
  },
  {
   "cell_type": "code",
   "execution_count": 13,
   "metadata": {},
   "outputs": [
    {
     "data": {
      "image/png": "[encoded data removed]",
      "text/plain": [
       "<matplotlib.figure.Figure at 0x2f14e2b0>"
      ]
     },
     "metadata": {},
     "output_type": "display_data"
    },
    {
     "name": "stdout",
     "output_type": "stream",
     "text": [
      "Speedup for processing time: 2511.97\n"
     ]
    }
   ],
   "source": [
    "%matplotlib inline\n",
    "import matplotlib.pyplot as plt\n",
    "import numpy as np\n",
    "\n",
    "t_preparation = (sw_prep, hw_prep)\n",
    "t_processing = (sw_proc, hw_proc)\n",
    "\n",
    "ind = [0, 1]\n",
    "width = 0.5\n",
    "\n",
    "p1 = plt.bar(ind, t_preparation, width, color='#d62728')\n",
    "p2 = plt.bar(ind, t_processing, width, bottom=t_preparation)\n",
    "\n",
    "plt.ylabel('Time (s)')\n",
    "plt.title('Execution time for 10,000 data')\n",
    "plt.xticks(ind, ('Software', 'Hardware'))\n",
    "plt.yticks(np.arange(0, 10, 1))\n",
    "plt.legend((p1[0], p2[0]), ('preparation time', 'processing time'))\n",
    "\n",
    "plt.show()\n",
    "\n",
    "print('Speedup for processing time: {0:.2f}'.format(sw_proc/hw_proc))"
   ]
  }
 ],
 "metadata": {
  "kernelspec": {
   "display_name": "Python 3",
   "language": "python",
   "name": "python3"
  },
  "language_info": {
   "codemirror_mode": {
    "name": "ipython",
    "version": 3
   },
   "file_extension": ".py",
   "mimetype": "text/x-python",
   "name": "python",
   "nbconvert_exporter": "python",
   "pygments_lexer": "ipython3",
   "version": "3.6.0"
  }
 },
 "nbformat": 4,
 "nbformat_minor": 2
}
